{
  "cells": [
    {
      "cell_type": "markdown",
      "metadata": {
        "id": "zj9QK-5eYuUj"
      },
      "source": [
        "#Assignment 2"
      ]
    },
    {
      "cell_type": "markdown",
      "metadata": {
        "id": "ZIKMxRxdV36S"
      },
      "source": [
        "Max collaborators = 3\n",
        "\n",
        "Hand holding is low for this assignment. Adjust accordingly. In case of confusion, feel free to reach out to your lab faculties. Good luck."
      ]
    },
    {
      "cell_type": "code",
      "execution_count": 86,
      "metadata": {
        "id": "MDCLdmpUD1e-"
      },
      "outputs": [],
      "source": [
        "COLLABORATORS_NAME = \"Naimur Rahman,Md. Mukaddimul Kabir, Aritra Chakraborty\"\n",
        "COLLABORATORS_ID = \"24241138, 22141006, 22101892\""
      ]
    },
    {
      "cell_type": "markdown",
      "metadata": {
        "id": "qUBbKxIOEHxW"
      },
      "source": [
        "#Loading dependencies"
      ]
    },
    {
      "cell_type": "code",
      "execution_count": 87,
      "metadata": {
        "id": "_XqDjPoJEHQz"
      },
      "outputs": [],
      "source": [
        "import numpy as np\n",
        "from tensorflow import keras\n",
        "import sklearn\n",
        "import matplotlib.pyplot as plt\n",
        "from skimage import color,io, img_as_float\n",
        "from sklearn.model_selection import train_test_split,GridSearchCV\n",
        "from sklearn.utils.class_weight import compute_class_weight\n",
        "import torch\n",
        "from sklearn.linear_model import LogisticRegression\n",
        "from sklearn.pipeline import Pipeline\n",
        "from sklearn.preprocessing import StandardScaler\n",
        "#add if more dependencies are required here"
      ]
    },
    {
      "cell_type": "code",
      "execution_count": 88,
      "metadata": {
        "colab": {
          "base_uri": "https://localhost:8080/"
        },
        "id": "pIxBvO6NpzQM",
        "outputId": "98565987-a0ad-48d0-acf6-99e51b17aa4c"
      },
      "outputs": [
        {
          "output_type": "stream",
          "name": "stdout",
          "text": [
            "cpu\n"
          ]
        }
      ],
      "source": [
        "\n",
        "device = \"cuda\" if torch.backends.mps.is_available() else \"cpu\"\n",
        "print(device)"
      ]
    },
    {
      "cell_type": "markdown",
      "metadata": {
        "id": "1spTeOkGPY7w"
      },
      "source": [
        "#Loading dataset"
      ]
    },
    {
      "cell_type": "code",
      "execution_count": 89,
      "metadata": {
        "id": "Qr-Otwz8EvRH"
      },
      "outputs": [],
      "source": [
        "id =  24241138 #insert id of any one collaborator in int\n",
        "\n",
        "(x_train, y_train), (x_test, y_test) = keras.datasets.cifar10.load_data()\n",
        "\n",
        "x_train, y_train = sklearn.utils.resample(x_train, y_train, replace = False, n_samples = 5000, random_state = id, stratify = y_train)\n",
        "x_test, y_test = sklearn.utils.resample(x_test, y_test, replace = False, n_samples = 1000, random_state = id, stratify = y_train)"
      ]
    },
    {
      "cell_type": "markdown",
      "metadata": {
        "id": "vq6eQJ8bEAZ7"
      },
      "source": [
        "#Task 1: Training a logistic regressor [10 Marks]"
      ]
    },
    {
      "cell_type": "markdown",
      "metadata": {
        "id": "VTManISXPccm"
      },
      "source": [
        "###1. Convert the images to grayscale"
      ]
    },
    {
      "cell_type": "code",
      "execution_count": 90,
      "metadata": {
        "id": "k5f2Cf_VIeq6"
      },
      "outputs": [],
      "source": [
        "def rgbToGray(array):\n",
        "    gray = []\n",
        "    for img in array:\n",
        "        gray.append(color.rgb2gray(img))\n",
        "    gray = np.array(gray)\n",
        "    return gray\n",
        "x_train_gray = rgbToGray(x_train)\n",
        "x_test_gray = rgbToGray(x_test)\n",
        "x_train_gray_cnn = rgbToGray(x_train)\n",
        "x_test_gray_cnn = rgbToGray(x_test)"
      ]
    },
    {
      "cell_type": "markdown",
      "metadata": {
        "id": "OhUfuuFrPm1g"
      },
      "source": [
        "### 2. Prepare the grayscale images for logistic regressor (reshape and normalize)"
      ]
    },
    {
      "cell_type": "markdown",
      "metadata": {
        "id": "Vft4Fy_wYTXm"
      },
      "source": [
        "Use z-score normalization."
      ]
    },
    {
      "cell_type": "code",
      "execution_count": 91,
      "metadata": {
        "id": "NEDttQUgPxBJ"
      },
      "outputs": [],
      "source": [
        "x_train_gray = x_train_gray.reshape(x_train_gray.shape[0],-1)\n",
        "x_test_gray = x_test_gray.reshape(x_test_gray.shape[0],-1)\n",
        "\n",
        "x_train = x_train_gray.astype(np.float32)\n",
        "x_test = x_test_gray.astype(np.float32)\n",
        "\n",
        "x_train = (x_train - x_train.mean(axis = 0, keepdims = True))/(x_train.std(axis = 0, keepdims = True) + 1e-4)\n",
        "x_test = (x_test - x_test.mean(axis = 0, keepdims = True))/(x_test.std(axis = 0, keepdims = True) + 1e-4)"
      ]
    },
    {
      "cell_type": "markdown",
      "metadata": {
        "id": "bpcARCUFPxef"
      },
      "source": [
        "###3. Create a validation set (20%)"
      ]
    },
    {
      "cell_type": "code",
      "execution_count": 92,
      "metadata": {
        "id": "xGYGUTJLQY8N"
      },
      "outputs": [],
      "source": [
        "\n",
        "x_train,x_val,y_train,y_val = train_test_split(x_train,y_train,test_size=0.2, random_state=42,stratify=y_train)"
      ]
    },
    {
      "cell_type": "markdown",
      "metadata": {
        "id": "hG8fGagsTXaM"
      },
      "source": [
        "###4. Compute class weights"
      ]
    },
    {
      "cell_type": "markdown",
      "metadata": {
        "id": "TyiQ4upFTzAI"
      },
      "source": [
        "Go through this link - https://scikit-learn.org/stable/modules/generated/sklearn.utils.class_weight.compute_class_weight.html"
      ]
    },
    {
      "cell_type": "code",
      "execution_count": 93,
      "metadata": {
        "id": "zDq5JrXtTx4n",
        "colab": {
          "base_uri": "https://localhost:8080/"
        },
        "outputId": "796a8c2a-69cc-49b3-c061-8dff0107c734"
      },
      "outputs": [
        {
          "output_type": "stream",
          "name": "stdout",
          "text": [
            "[1. 1. 1. 1. 1. 1. 1. 1. 1. 1.]\n",
            "{np.uint8(0): np.float64(1.0), np.uint8(1): np.float64(1.0), np.uint8(2): np.float64(1.0), np.uint8(3): np.float64(1.0), np.uint8(4): np.float64(1.0), np.uint8(5): np.float64(1.0), np.uint8(6): np.float64(1.0), np.uint8(7): np.float64(1.0), np.uint8(8): np.float64(1.0), np.uint8(9): np.float64(1.0)}\n"
          ]
        }
      ],
      "source": [
        "class_weight_comp = compute_class_weight(\n",
        "    class_weight=\"balanced\",\n",
        "    classes=np.unique(y_train),\n",
        "      y=y_train.flatten())\n",
        "print(class_weight_comp)\n",
        "class_weight_comp = dict(zip(np.unique(y_train),class_weight_comp))\n",
        "print(class_weight_comp)\n"
      ]
    },
    {
      "cell_type": "markdown",
      "metadata": {
        "id": "SS1CvHnfQZui"
      },
      "source": [
        "###5. Run the logistic regressor"
      ]
    },
    {
      "cell_type": "markdown",
      "metadata": {
        "id": "KD1xXEEwQgga"
      },
      "source": [
        "Use L2 regularizer. Find the C hyperparameter value through grid search. Pick the testing values according to your understanding. Use at least 3 test values and at max 5. Use the computed class weights while training your model."
      ]
    },
    {
      "cell_type": "code",
      "execution_count": 94,
      "metadata": {
        "colab": {
          "base_uri": "https://localhost:8080/"
        },
        "id": "JFd-FUO1pzQP",
        "outputId": "caaa54a9-487c-4d18-fde0-25e4048abe42"
      },
      "outputs": [
        {
          "output_type": "stream",
          "name": "stdout",
          "text": [
            "x_train.shape:  (4000, 1024)\n",
            "y_train.shape:  (4000, 1)\n",
            "y_test.shape (1000, 1)\n"
          ]
        }
      ],
      "source": [
        "print(\"x_train.shape: \",x_train.shape)\n",
        "print(\"y_train.shape: \",y_train.shape)\n",
        "print(\"y_test.shape\",y_test.shape)"
      ]
    },
    {
      "cell_type": "code",
      "execution_count": 95,
      "metadata": {
        "id": "F0HmASjZpzQP"
      },
      "outputs": [],
      "source": [
        "from sklearn.exceptions import ConvergenceWarning\n",
        "import warnings\n",
        "warnings.filterwarnings(\"ignore\", category=ConvergenceWarning)\n"
      ]
    },
    {
      "cell_type": "code",
      "execution_count": 96,
      "metadata": {
        "id": "q4zfIE3FQf9U",
        "colab": {
          "base_uri": "https://localhost:8080/"
        },
        "outputId": "1c78625b-cab2-4c0d-8592-db8f729d9324"
      },
      "outputs": [
        {
          "output_type": "stream",
          "name": "stdout",
          "text": [
            "LogisticRegression(C=0.01, class_weight='balanced', max_iter=1000)\n",
            "{'C': 0.01, 'class_weight': 'balanced', 'max_iter': 1000, 'penalty': 'l2', 'solver': 'lbfgs'}\n",
            "0.24225190480528677\n"
          ]
        }
      ],
      "source": [
        "model = LogisticRegression()\n",
        "\n",
        "params_grid = {\n",
        "    \"C\": [0.01, 0.02, 0.05, 0.08, 0.1],\n",
        "    \"penalty\": ['l2'],\n",
        "    \"solver\": ['lbfgs'],\n",
        "    \"max_iter\": [1000, 2000, 3000],\n",
        "    \"class_weight\": ['balanced']\n",
        "}\n",
        "\n",
        "\n",
        "logistic_regressor = GridSearchCV(\n",
        "    model,\n",
        "    params_grid,\n",
        "    cv=3,\n",
        "    scoring='accuracy',\n",
        "    n_jobs=4\n",
        ")\n",
        "\n",
        "logistic_regressor.fit(x_train,y_train.ravel())\n",
        "\n",
        "print(logistic_regressor.best_estimator_)\n",
        "print(logistic_regressor.best_params_)\n",
        "print(logistic_regressor.best_score_)"
      ]
    },
    {
      "cell_type": "markdown",
      "metadata": {
        "id": "eyUigal5RQi7"
      },
      "source": [
        "###6. Evaluate the logistic regressor on the test set"
      ]
    },
    {
      "cell_type": "code",
      "execution_count": 97,
      "metadata": {
        "colab": {
          "base_uri": "https://localhost:8080/"
        },
        "id": "O9A0MkrypzQQ",
        "outputId": "9c81e13c-21ad-40f4-d05c-2d02e9411af0"
      },
      "outputs": [
        {
          "output_type": "stream",
          "name": "stdout",
          "text": [
            "0.262\n"
          ]
        }
      ],
      "source": [
        "from sklearn.metrics import accuracy_score\n",
        "\n",
        "y_pred = logistic_regressor.predict(x_test)\n",
        "test_acc = accuracy_score(y_test, y_pred)\n",
        "\n",
        "print(test_acc)"
      ]
    },
    {
      "cell_type": "markdown",
      "metadata": {
        "id": "I1COtQ3Yo5XX"
      },
      "source": [
        "###7. Write code to pick up a random image from the test set and display it"
      ]
    },
    {
      "cell_type": "code",
      "execution_count": 98,
      "metadata": {
        "id": "L8HM5Asuo99j",
        "colab": {
          "base_uri": "https://localhost:8080/",
          "height": 406
        },
        "outputId": "29301412-a62c-40fb-fcfb-f4714b546fca"
      },
      "outputs": [
        {
          "output_type": "display_data",
          "data": {
            "text/plain": [
              "<Figure size 640x480 with 1 Axes>"
            ],
            "image/png": "[encoded data removed]"
          },
          "metadata": {}
        }
      ],
      "source": [
        "random_index = np.random.randint(y_test.shape[0], size = 1)\n",
        "\n",
        "\n",
        "img = x_test[random_index].reshape(32, 32)\n",
        "\n",
        "plt.imshow(img)\n",
        "plt.axis(\"off\")\n",
        "plt.show()\n"
      ]
    },
    {
      "cell_type": "markdown",
      "metadata": {
        "id": "6kLNUZtzpC3U"
      },
      "source": [
        "###8. Print the predicted class vs the original class"
      ]
    },
    {
      "cell_type": "markdown",
      "metadata": {
        "id": "aJb3nHZgo4ZQ"
      },
      "source": [
        "Do not print out the numerical class. Map it from here - https://keras.io/2/api/datasets/cifar10/"
      ]
    },
    {
      "cell_type": "code",
      "execution_count": 99,
      "metadata": {
        "id": "hjvYQALUpD3n",
        "colab": {
          "base_uri": "https://localhost:8080/"
        },
        "outputId": "7d2967d3-7f99-439f-de68-4410b0c37f02"
      },
      "outputs": [
        {
          "output_type": "stream",
          "name": "stdout",
          "text": [
            "Sample 1: Predicted = automobile, Original = automobile\n",
            "Sample 2: Predicted = ship, Original = truck\n",
            "Sample 3: Predicted = automobile, Original = automobile\n",
            "Sample 4: Predicted = bird, Original = ship\n",
            "Sample 5: Predicted = automobile, Original = automobile\n",
            "Sample 6: Predicted = deer, Original = dog\n",
            "Sample 7: Predicted = truck, Original = truck\n",
            "Sample 8: Predicted = truck, Original = automobile\n",
            "Sample 9: Predicted = frog, Original = deer\n",
            "Sample 10: Predicted = airplane, Original = airplane\n",
            "Sample 11: Predicted = frog, Original = frog\n",
            "Sample 12: Predicted = ship, Original = airplane\n",
            "Sample 13: Predicted = truck, Original = ship\n",
            "Sample 14: Predicted = horse, Original = cat\n",
            "Sample 15: Predicted = ship, Original = deer\n",
            "Sample 16: Predicted = airplane, Original = dog\n",
            "Sample 17: Predicted = frog, Original = cat\n",
            "Sample 18: Predicted = automobile, Original = truck\n",
            "Sample 19: Predicted = frog, Original = cat\n",
            "Sample 20: Predicted = dog, Original = airplane\n"
          ]
        }
      ],
      "source": [
        "y_pred = logistic_regressor.predict(x_test)\n",
        "y_test_c = y_test.ravel()\n",
        "class_names = [\"airplane\", \"automobile\", \"bird\", \"cat\", \"deer\",\n",
        "               \"dog\", \"frog\", \"horse\", \"ship\", \"truck\"]\n",
        "\n",
        "# Print predicted vs original class for first 20 test samples\n",
        "for i in range(20):\n",
        "    print(f\"Sample {i+1}: Predicted = {class_names[y_pred[i]]}, Original = {class_names[y_test_c[i]]}\")"
      ]
    },
    {
      "cell_type": "markdown",
      "metadata": {
        "id": "xd6ctJcyRa5L"
      },
      "source": [
        "#Task 2: Training a convolutional neural network [20 Marks]"
      ]
    },
    {
      "cell_type": "markdown",
      "metadata": {
        "id": "PqvJrLWmRuyL"
      },
      "source": [
        "We will not strictly control how you implement this code. You can use either Tensorflow or PyTorch. However the structure of the network must be -\n",
        "\n",
        "```\n",
        "Input -> Conv1 -> Conv2 -> Conv3 -> Fully Connected 1 -> Fully Connected 2 -> Output\n",
        "```\n",
        "\n",
        "Use activation functions and pooling as you want. Feel free to adjust dimensions as you need. Set the hyperparameters yourself. Use a maximum learning rate of 0.01 and a maximum epoch number of 100. Use AdamW as optimizer.\n",
        "\n",
        "**Try achieving good accuracy. There are marks for that.**"
      ]
    },
    {
      "cell_type": "markdown",
      "metadata": {
        "id": "Eg4e1kUBUCTq"
      },
      "source": [
        "###1. Train the model on grayscale images"
      ]
    },
    {
      "cell_type": "markdown",
      "metadata": {
        "id": "zgoBiFcwUF1b"
      },
      "source": [
        "You do not need to use the validation set. Train on the initial train set. Recalculate the class weights again and pass it to the optimizer function. Normalize the images before processing."
      ]
    },
    {
      "cell_type": "markdown",
      "metadata": {
        "id": "LFL7lGbApzQR"
      },
      "source": [
        "#Imports for task 2"
      ]
    },
    {
      "cell_type": "code",
      "execution_count": 100,
      "metadata": {
        "id": "9s6Gh8f_pzQR"
      },
      "outputs": [],
      "source": [
        "\n",
        "import random\n",
        "import torch.nn as nn\n",
        "import torch.nn.functional as F\n"
      ]
    },
    {
      "cell_type": "code",
      "execution_count": 134,
      "metadata": {
        "id": "zF7-vXC1RpRX"
      },
      "outputs": [],
      "source": [
        "class CNN(nn.Module):\n",
        "    def __init__(self, c_in=1, output_dim=128):\n",
        "        super(CNN, self).__init__()\n",
        "        self.conv1 = nn.Conv2d(c_in, 32, kernel_size=3, padding=1)\n",
        "        self.conv2 = nn.Conv2d(32, 64, kernel_size=3, padding=1)\n",
        "        self.conv3 = nn.Conv2d(64, output_dim, kernel_size=3, padding=1)\n",
        "        self.pool  = nn.MaxPool2d(2,2)\n",
        "        self.fc1   = nn.Linear(output_dim*4*4, output_dim)\n",
        "        self.fc2   = nn.Linear(output_dim, 64)\n",
        "        self.out   = nn.Linear(64, 10)\n",
        "        self.relu  = nn.ReLU()\n",
        "\n",
        "    def forward(self, x):\n",
        "        x = self.pool(self.relu(self.conv1(x)))\n",
        "        x = self.pool(self.relu(self.conv2(x)))\n",
        "        x = self.pool(self.relu(self.conv3(x)))\n",
        "        x = x.view(x.size(0), -1)\n",
        "        x = self.relu(self.fc1(x))\n",
        "        x = self.relu(self.fc2(x))\n",
        "        x = self.out(x)\n",
        "        return x"
      ]
    },
    {
      "cell_type": "code",
      "source": [
        "device = \"cuda\" if torch.cuda.is_available() else \"cpu\"\n",
        "print(\"Device:\", device)"
      ],
      "metadata": {
        "colab": {
          "base_uri": "https://localhost:8080/"
        },
        "id": "iQveLxP3wh9L",
        "outputId": "b3b12e42-60c4-419b-8447-f954b0668973"
      },
      "execution_count": 135,
      "outputs": [
        {
          "output_type": "stream",
          "name": "stdout",
          "text": [
            "Device: cuda\n"
          ]
        }
      ]
    },
    {
      "cell_type": "code",
      "source": [
        "(x_train, y_train), (x_test, y_test) = keras.datasets.cifar10.load_data()\n",
        "\n",
        "\n",
        "x_train = x_train.astype(np.float32)/255.0\n",
        "x_test  = x_test.astype(np.float32)/255.0\n",
        "\n",
        "y_train = y_train.astype(np.int64).squeeze()\n",
        "y_test  = y_test.astype(np.int64).squeeze()\n",
        "\n",
        "\n",
        "x_train_gray = np.array([color.rgb2gray(img) for img in x_train], dtype=np.float32)\n",
        "x_test_gray  = np.array([color.rgb2gray(img) for img in x_test], dtype=np.float32)\n",
        "\n",
        "\n",
        "mean_train = x_train_gray.mean(axis=(0,1,2), keepdims=True)\n",
        "std_train  = x_train_gray.std(axis=(0,1,2), keepdims=True) + 1e-4\n",
        "\n",
        "x_train_gray = (x_train_gray - mean_train)/std_train\n",
        "x_test_gray  = (x_test_gray - mean_train)/std_train"
      ],
      "metadata": {
        "id": "7s13MqC9wtwr"
      },
      "execution_count": 136,
      "outputs": []
    },
    {
      "cell_type": "code",
      "source": [
        "x_train_tensor = torch.tensor(x_train_gray, device=device).unsqueeze(1)\n",
        "x_test_tensor  = torch.tensor(x_test_gray, device=device).unsqueeze(1)\n",
        "y_train_tensor = torch.tensor(y_train, device=device)\n",
        "y_test_tensor  = torch.tensor(y_test, device=device)"
      ],
      "metadata": {
        "id": "wHjexPJg0ZIB"
      },
      "execution_count": 137,
      "outputs": []
    },
    {
      "cell_type": "code",
      "execution_count": 138,
      "metadata": {
        "colab": {
          "base_uri": "https://localhost:8080/"
        },
        "id": "3mtExjH0pzQk",
        "outputId": "a2e19386-6b36-4bc5-b599-2c042989e3f2"
      },
      "outputs": [
        {
          "output_type": "stream",
          "name": "stdout",
          "text": [
            "Epoch 1/120 | Loss: 1.6342 | Accuracy: 0.4062\n",
            "Epoch 10/120 | Loss: 0.4372 | Accuracy: 0.8493\n",
            "Epoch 20/120 | Loss: 0.1599 | Accuracy: 0.9433\n",
            "Epoch 30/120 | Loss: 0.0740 | Accuracy: 0.9744\n",
            "Epoch 40/120 | Loss: 0.0548 | Accuracy: 0.9811\n",
            "Epoch 50/120 | Loss: 0.0442 | Accuracy: 0.9852\n",
            "Epoch 60/120 | Loss: 0.0384 | Accuracy: 0.9872\n",
            "Epoch 70/120 | Loss: 0.0311 | Accuracy: 0.9894\n",
            "Epoch 80/120 | Loss: 0.0227 | Accuracy: 0.9920\n",
            "Epoch 90/120 | Loss: 0.0292 | Accuracy: 0.9904\n",
            "Epoch 100/120 | Loss: 0.0276 | Accuracy: 0.9909\n",
            "Epoch 110/120 | Loss: 0.0290 | Accuracy: 0.9899\n",
            "Epoch 120/120 | Loss: 0.0164 | Accuracy: 0.9946\n"
          ]
        }
      ],
      "source": [
        "batch_size = 128\n",
        "learning_rate = 0.001\n",
        "epochs = 120\n",
        "\n",
        "classifier = CNN(c_in=1).to(device)\n",
        "optimizer = torch.optim.AdamW(classifier.parameters(), lr=learning_rate)\n",
        "loss_fn = nn.CrossEntropyLoss()\n",
        "\n",
        "\n",
        "train_size = x_train_tensor.shape[0]\n",
        "batch_len = int(np.ceil(train_size / batch_size))\n",
        "\n",
        "for epoch in range(epochs):\n",
        "    classifier.train()\n",
        "    total_loss = 0\n",
        "    total_correct = 0\n",
        "\n",
        "    for i in range(batch_len):\n",
        "        start = i * batch_size\n",
        "        end   = min((i+1)*batch_size, train_size)\n",
        "\n",
        "        x_batch = x_train_tensor[start:end]\n",
        "        y_batch = y_train_tensor[start:end]\n",
        "\n",
        "        optimizer.zero_grad()\n",
        "        y_pred = classifier(x_batch)\n",
        "        loss = loss_fn(y_pred, y_batch)\n",
        "        loss.backward()\n",
        "        optimizer.step()\n",
        "\n",
        "        total_loss += loss.item() * x_batch.size(0)\n",
        "        total_correct += (y_pred.argmax(dim=1) == y_batch).sum().item()\n",
        "\n",
        "    epoch_loss = total_loss / train_size\n",
        "    epoch_acc  = total_correct / train_size\n",
        "\n",
        "    if (epoch+1) % 10 == 0 or epoch == 0:\n",
        "        print(f\"Epoch {epoch+1}/{epochs} | Loss: {epoch_loss:.4f} | Accuracy: {epoch_acc:.4f}\")"
      ]
    },
    {
      "cell_type": "markdown",
      "metadata": {
        "id": "QH9S4fLiUMza"
      },
      "source": [
        "###2. Evaluate the model on the grayscale test set"
      ]
    },
    {
      "cell_type": "code",
      "execution_count": 139,
      "metadata": {
        "id": "g7Jwzg6EUQ2x",
        "colab": {
          "base_uri": "https://localhost:8080/"
        },
        "outputId": "28579f48-f467-460d-dd32-5b51ddbb0e8d"
      },
      "outputs": [
        {
          "output_type": "stream",
          "name": "stdout",
          "text": [
            "Test Accuracy: 0.7098999619483948\n"
          ]
        }
      ],
      "source": [
        "classifier.eval()\n",
        "with torch.no_grad():\n",
        "    y_test_pred = classifier(x_test_tensor)\n",
        "    test_acc = (y_test_pred.argmax(dim=1) == y_test_tensor).float().mean().item()\n",
        "print(\"Test Accuracy:\", test_acc)"
      ]
    },
    {
      "cell_type": "markdown",
      "metadata": {
        "id": "5Wvna5JKokP8"
      },
      "source": [
        "###3. Write code to pick up a random image from the test set and display it"
      ]
    },
    {
      "cell_type": "code",
      "execution_count": 109,
      "metadata": {
        "id": "BIqJEI77olBD",
        "colab": {
          "base_uri": "https://localhost:8080/",
          "height": 406
        },
        "outputId": "7991ae09-0e04-46a3-95e9-90cefeb4a91d"
      },
      "outputs": [
        {
          "output_type": "display_data",
          "data": {
            "text/plain": [
              "<Figure size 640x480 with 1 Axes>"
            ],
            "image/png": "[encoded data removed]"
          },
          "metadata": {}
        }
      ],
      "source": [
        "idx = random.randint(0, x_test_tensor.shape[0]-1)\n",
        "img = x_test_tensor[idx].cpu().squeeze()\n",
        "plt.imshow(img, cmap='gray')\n",
        "plt.axis('off')\n",
        "plt.show()\n"
      ]
    },
    {
      "cell_type": "markdown",
      "metadata": {
        "id": "_HRX0XOwoode"
      },
      "source": [
        "###4. Print the predicted class vs the original class"
      ]
    },
    {
      "cell_type": "code",
      "execution_count": 110,
      "metadata": {
        "id": "L2Ihb9opoq0G",
        "colab": {
          "base_uri": "https://localhost:8080/"
        },
        "outputId": "9b9e326e-785d-4be9-b812-8efaacedb58b"
      },
      "outputs": [
        {
          "output_type": "stream",
          "name": "stdout",
          "text": [
            "Predicted: cat | True: frog\n"
          ]
        }
      ],
      "source": [
        "class_names = [\"airplane\", \"automobile\", \"bird\", \"cat\", \"deer\",\n",
        "               \"dog\", \"frog\", \"horse\", \"ship\", \"truck\"]\n",
        "\n",
        "pred_class = class_names[y_test_pred.argmax(dim=1)[idx]]\n",
        "true_class = class_names[y_test_tensor[idx]]\n",
        "print(f\"Predicted: {pred_class} | True: {true_class}\")"
      ]
    },
    {
      "cell_type": "markdown",
      "metadata": {
        "id": "BvO11goFURbC"
      },
      "source": [
        "###5. Train the model on the RGB images"
      ]
    },
    {
      "cell_type": "markdown",
      "metadata": {
        "id": "3vGs-tpwUpOc"
      },
      "source": [
        "Keep the model same."
      ]
    },
    {
      "cell_type": "code",
      "execution_count": 140,
      "metadata": {
        "id": "fb3Cbv_tUlkK"
      },
      "outputs": [],
      "source": [
        "x_train_tensor = torch.tensor(x_train, dtype=torch.float32, device=device).permute(0,3,1,2)\n",
        "x_test_tensor  = torch.tensor(x_test, dtype=torch.float32, device=device).permute(0,3,1,2)\n",
        "y_train_tensor = torch.tensor(y_train, dtype=torch.long, device=device)\n",
        "y_test_tensor  = torch.tensor(y_test, dtype=torch.long, device=device)"
      ]
    },
    {
      "cell_type": "code",
      "source": [
        "batch_size = 64\n",
        "learning_rate = 0.001\n",
        "epochs = 120\n",
        "\n",
        "classifier = CNN(c_in=3).to(device)\n",
        "optimizer = torch.optim.AdamW(classifier.parameters(), lr=learning_rate)\n",
        "loss_fn = nn.CrossEntropyLoss()\n",
        "\n",
        "\n",
        "train_size = x_train_tensor.shape[0]\n",
        "batch_len = int(np.ceil(train_size / batch_size))\n",
        "\n",
        "for epoch in range(epochs):\n",
        "    classifier.train()\n",
        "    total_loss = 0\n",
        "    total_correct = 0\n",
        "\n",
        "    for i in range(batch_len):\n",
        "        start = i * batch_size\n",
        "        end   = min((i+1)*batch_size, train_size)\n",
        "\n",
        "        x_batch = x_train_tensor[start:end]\n",
        "        y_batch = y_train_tensor[start:end]\n",
        "\n",
        "        optimizer.zero_grad()\n",
        "        y_pred = classifier(x_batch)\n",
        "        loss = loss_fn(y_pred, y_batch)\n",
        "        loss.backward()\n",
        "        optimizer.step()\n",
        "\n",
        "        total_loss += loss.item() * x_batch.size(0)\n",
        "        total_correct += (y_pred.argmax(dim=1) == y_batch).sum().item()\n",
        "\n",
        "    epoch_loss = total_loss / train_size\n",
        "    epoch_acc  = total_correct / train_size\n",
        "\n",
        "    if (epoch+1) % 10 == 0 or epoch == 0:\n",
        "        print(f\"Epoch {epoch+1}/{epochs} | Loss: {epoch_loss:.4f} | Accuracy: {epoch_acc:.4f}\")"
      ],
      "metadata": {
        "colab": {
          "base_uri": "https://localhost:8080/"
        },
        "id": "ocke3Q_p2o4k",
        "outputId": "2ed8c415-f6e8-4c27-b4f1-98fd7c4471e9"
      },
      "execution_count": 141,
      "outputs": [
        {
          "output_type": "stream",
          "name": "stdout",
          "text": [
            "Epoch 1/120 | Loss: 1.5819 | Accuracy: 0.4152\n",
            "Epoch 10/120 | Loss: 0.5586 | Accuracy: 0.8015\n",
            "Epoch 20/120 | Loss: 0.3764 | Accuracy: 0.8669\n",
            "Epoch 30/120 | Loss: 0.2824 | Accuracy: 0.9003\n",
            "Epoch 40/120 | Loss: 0.2276 | Accuracy: 0.9199\n",
            "Epoch 50/120 | Loss: 0.1926 | Accuracy: 0.9315\n",
            "Epoch 60/120 | Loss: 0.1758 | Accuracy: 0.9381\n",
            "Epoch 70/120 | Loss: 0.1608 | Accuracy: 0.9446\n",
            "Epoch 80/120 | Loss: 0.1395 | Accuracy: 0.9512\n",
            "Epoch 90/120 | Loss: 0.1346 | Accuracy: 0.9532\n",
            "Epoch 100/120 | Loss: 0.1264 | Accuracy: 0.9561\n",
            "Epoch 110/120 | Loss: 0.1234 | Accuracy: 0.9564\n",
            "Epoch 120/120 | Loss: 0.1265 | Accuracy: 0.9573\n"
          ]
        }
      ]
    },
    {
      "cell_type": "markdown",
      "metadata": {
        "id": "W9DM5SjbUmMl"
      },
      "source": [
        "###6. Evaluate the model on the RGB images"
      ]
    },
    {
      "cell_type": "code",
      "execution_count": 142,
      "metadata": {
        "id": "rHlOvimGUoxe",
        "colab": {
          "base_uri": "https://localhost:8080/"
        },
        "outputId": "cbb846e9-71b0-42f2-8c8e-a848999f0919"
      },
      "outputs": [
        {
          "output_type": "stream",
          "name": "stdout",
          "text": [
            "Test Accuracy: 0.6872000098228455\n"
          ]
        }
      ],
      "source": [
        "classifier.eval()\n",
        "with torch.no_grad():\n",
        "    y_test_pred = classifier(x_test_tensor)\n",
        "    test_acc = (y_test_pred.argmax(dim=1) == y_test_tensor).float().mean().item()\n",
        "print(\"Test Accuracy:\", test_acc)"
      ]
    },
    {
      "cell_type": "markdown",
      "metadata": {
        "id": "zXUSCL9GWHcx"
      },
      "source": [
        "###7. Write code to pick up a random image from the test set and display it"
      ]
    },
    {
      "cell_type": "code",
      "execution_count": 150,
      "metadata": {
        "id": "X1rplFeGWTyi",
        "colab": {
          "base_uri": "https://localhost:8080/",
          "height": 406
        },
        "outputId": "3c24ea35-fa40-47d6-9bcc-dcf83c38ca09"
      },
      "outputs": [
        {
          "output_type": "display_data",
          "data": {
            "text/plain": [
              "<Figure size 640x480 with 1 Axes>"
            ],
            "image/png": "[encoded data removed]"
          },
          "metadata": {}
        }
      ],
      "source": [
        "idx = random.randint(0, x_test.shape[0]-1)\n",
        "img = x_test[idx].squeeze()\n",
        "plt.imshow(img)\n",
        "plt.axis('off')\n",
        "plt.show()"
      ]
    },
    {
      "cell_type": "markdown",
      "metadata": {
        "id": "AEC37E2CWSsp"
      },
      "source": [
        "###8. Print the predicted class vs the original class"
      ]
    },
    {
      "cell_type": "code",
      "execution_count": 145,
      "metadata": {
        "id": "xkSJ2IvDWjKh",
        "colab": {
          "base_uri": "https://localhost:8080/"
        },
        "outputId": "000c7d52-9dff-4333-c8e3-713f63c91706"
      },
      "outputs": [
        {
          "output_type": "stream",
          "name": "stdout",
          "text": [
            "Predicted: dog | True: dog\n"
          ]
        }
      ],
      "source": [
        "class_names = [\"airplane\", \"automobile\", \"bird\", \"cat\", \"deer\",\n",
        "               \"dog\", \"frog\", \"horse\", \"ship\", \"truck\"]\n",
        "\n",
        "pred_class = class_names[y_test_pred.argmax(dim=1)[idx]]\n",
        "true_class = class_names[y_test_tensor[idx]]\n",
        "print(f\"Predicted: {pred_class} | True: {true_class}\")"
      ]
    },
    {
      "cell_type": "markdown",
      "metadata": {
        "id": "Pk-B9vNdpG6a"
      },
      "source": [
        "###9. Add one more conv layer and check if it increases the performance for the RGB images"
      ]
    },
    {
      "cell_type": "code",
      "execution_count": 146,
      "metadata": {
        "id": "k6RDr59DpvCY"
      },
      "outputs": [],
      "source": [
        "class CNN(nn.Module):\n",
        "    def __init__(self, c_in=3, output_dim=128):\n",
        "        super().__init__()\n",
        "        self.conv1 = nn.Conv2d(c_in, 32, kernel_size=3, padding=1)\n",
        "        self.conv2 = nn.Conv2d(32, 64, kernel_size=3, padding=1)\n",
        "        self.conv3 = nn.Conv2d(64, 128, kernel_size=3, padding=1)\n",
        "        self.conv4 = nn.Conv2d(128, output_dim, kernel_size=3, padding=1)\n",
        "        self.pool  = nn.MaxPool2d(2,2)\n",
        "        self.fc1   = nn.Linear(output_dim*2*2, output_dim)  # after 4 pools: 32->16->8->4->2\n",
        "        self.fc2   = nn.Linear(output_dim, 64)\n",
        "        self.out   = nn.Linear(64, 10)\n",
        "        self.relu  = nn.ReLU()\n",
        "\n",
        "    def forward(self, x):\n",
        "        x = self.pool(self.relu(self.conv1(x)))  # 32x32 -> 16x16\n",
        "        x = self.pool(self.relu(self.conv2(x)))  # 16x16 -> 8x8\n",
        "        x = self.pool(self.relu(self.conv3(x)))  # 8x8 -> 4x4\n",
        "        x = self.pool(self.relu(self.conv4(x)))  # 4x4 -> 2x2\n",
        "        x = x.view(x.size(0), -1)\n",
        "        x = self.relu(self.fc1(x))\n",
        "        x = self.relu(self.fc2(x))\n",
        "        x = self.out(x)\n",
        "        return x"
      ]
    },
    {
      "cell_type": "code",
      "source": [
        "classifier = CNN(c_in=3).to(device)\n",
        "\n",
        "\n",
        "batch_size = 128\n",
        "learning_rate = 0.002\n",
        "epochs = 100\n",
        "\n",
        "optimizer = torch.optim.AdamW(classifier.parameters(), lr=learning_rate)\n",
        "loss_fn = nn.CrossEntropyLoss()\n",
        "\n",
        "train_size = x_train_tensor.shape[0]\n",
        "batch_len = int(np.ceil(train_size / batch_size))\n",
        "\n",
        "# --- Training loop ---\n",
        "for epoch in range(epochs):\n",
        "    classifier.train()\n",
        "    total_loss = 0\n",
        "    total_correct = 0\n",
        "\n",
        "    for i in range(batch_len):\n",
        "        start = i * batch_size\n",
        "        end   = min((i+1)*batch_size, train_size)\n",
        "\n",
        "        x_batch = x_train_tensor[start:end]\n",
        "        y_batch = y_train_tensor[start:end]\n",
        "\n",
        "        optimizer.zero_grad()\n",
        "        y_pred = classifier(x_batch)\n",
        "        loss = loss_fn(y_pred, y_batch)\n",
        "        loss.backward()\n",
        "        optimizer.step()\n",
        "\n",
        "        total_loss += loss.item() * x_batch.size(0)\n",
        "        total_correct += (y_pred.argmax(dim=1) == y_batch).sum().item()\n",
        "\n",
        "    epoch_loss = total_loss / train_size\n",
        "    epoch_acc  = total_correct / train_size\n",
        "\n",
        "    if (epoch+1) % 5 == 0 or epoch == 0:\n",
        "        print(f\"Epoch {epoch+1}/{epochs} | Loss: {epoch_loss:.4f} | Accuracy: {epoch_acc:.4f}\")"
      ],
      "metadata": {
        "colab": {
          "base_uri": "https://localhost:8080/"
        },
        "id": "HPp8utT97PBw",
        "outputId": "5bd946a9-dadc-4ae2-d6d0-c573f7c81047"
      },
      "execution_count": 147,
      "outputs": [
        {
          "output_type": "stream",
          "name": "stdout",
          "text": [
            "Epoch 1/100 | Loss: 1.6805 | Accuracy: 0.3720\n",
            "Epoch 5/100 | Loss: 0.7616 | Accuracy: 0.7305\n",
            "Epoch 10/100 | Loss: 0.5242 | Accuracy: 0.8155\n",
            "Epoch 15/100 | Loss: 0.3667 | Accuracy: 0.8698\n",
            "Epoch 20/100 | Loss: 0.2867 | Accuracy: 0.8982\n",
            "Epoch 25/100 | Loss: 0.2293 | Accuracy: 0.9170\n",
            "Epoch 30/100 | Loss: 0.1983 | Accuracy: 0.9299\n",
            "Epoch 35/100 | Loss: 0.1686 | Accuracy: 0.9412\n",
            "Epoch 40/100 | Loss: 0.1385 | Accuracy: 0.9521\n",
            "Epoch 45/100 | Loss: 0.1221 | Accuracy: 0.9584\n",
            "Epoch 50/100 | Loss: 0.1206 | Accuracy: 0.9590\n",
            "Epoch 55/100 | Loss: 0.1120 | Accuracy: 0.9616\n",
            "Epoch 60/100 | Loss: 0.0971 | Accuracy: 0.9675\n",
            "Epoch 65/100 | Loss: 0.0917 | Accuracy: 0.9687\n",
            "Epoch 70/100 | Loss: 0.0896 | Accuracy: 0.9698\n",
            "Epoch 75/100 | Loss: 0.0881 | Accuracy: 0.9702\n",
            "Epoch 80/100 | Loss: 0.0861 | Accuracy: 0.9719\n",
            "Epoch 85/100 | Loss: 0.0783 | Accuracy: 0.9739\n",
            "Epoch 90/100 | Loss: 0.0762 | Accuracy: 0.9746\n",
            "Epoch 95/100 | Loss: 0.0703 | Accuracy: 0.9770\n",
            "Epoch 100/100 | Loss: 0.0780 | Accuracy: 0.9754\n"
          ]
        }
      ]
    },
    {
      "cell_type": "markdown",
      "metadata": {
        "id": "u1TXbZEyUr2a"
      },
      "source": [
        "###10. Use the next markup to write down your observations and reasonings on the performances of the models"
      ]
    },
    {
      "cell_type": "markdown",
      "metadata": {
        "id": "nTC63sXOU0Uo"
      },
      "source": [
        "The performane of Logistics regression is very poor is has to be.becuse the data structure is complex for it.so can't blame it.but in ***CNN (3 layer)*** we see the accuracy is 99.12 for grayscale and 99.06 for RGB.maybe we could have look for more tuning in batch_size.but when i tried with 120 epocs and lr=0.002 the preformance dropped and in anoter scenario i kept 120 epocs and lr = 0.001 performance increased so i can say learning rate is the factor in this dataset and model.but using 4 layer performaced dropped maybe i made it a bit complex and data got distorted."
      ]
    }
  ],
  "metadata": {
    "colab": {
      "provenance": [],
      "gpuType": "T4"
    },
    "kernelspec": {
      "display_name": "Python 3",
      "name": "python3"
    },
    "language_info": {
      "codemirror_mode": {
        "name": "ipython",
        "version": 3
      },
      "file_extension": ".py",
      "mimetype": "text/x-python",
      "name": "python",
      "nbconvert_exporter": "python",
      "pygments_lexer": "ipython3",
      "version": "3.11.6"
    },
    "accelerator": "GPU"
  },
  "nbformat": 4,
  "nbformat_minor": 0
}