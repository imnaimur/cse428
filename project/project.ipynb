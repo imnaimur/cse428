{
  "cells": [
    {
      "cell_type": "markdown",
      "metadata": {
        "id": "view-in-github",
        "colab_type": "text"
      },
      "source": [
        "<a href=\"https://colab.research.google.com/github/imnaimur/cse428/blob/main/project/project.ipynb\" target=\"_parent\"><img src=\"https://colab.research.google.com/assets/colab-badge.svg\" alt=\"Open In Colab\"/></a>"
      ]
    },
    {
      "cell_type": "code",
      "execution_count": 1,
      "id": "c1d7eadc",
      "metadata": {
        "id": "c1d7eadc"
      },
      "outputs": [],
      "source": [
        "import os\n",
        "import numpy as np\n",
        "import matplotlib.pyplot as plt\n",
        "import skimage\n",
        "import pandas as pd\n",
        "import torch\n",
        "import torch.nn as nn\n",
        "import torch.nn.functional as F\n",
        "from sklearn.model_selection import train_test_split\n",
        "from sklearn.utils.class_weight import compute_class_weight\n",
        "from torch.utils.data import Dataset, DataLoader\n",
        "from torchvision import datasets,transforms\n",
        "from pathlib import Path\n",
        "from PIL import Image"
      ]
    },
    {
      "cell_type": "markdown",
      "id": "afdfe2dd",
      "metadata": {
        "id": "afdfe2dd"
      },
      "source": [
        "##Data preperations"
      ]
    },
    {
      "cell_type": "code",
      "metadata": {
        "id": "e4880b12",
        "outputId": "cb272757-6eb7-439a-c6ed-dbc7bf25a489",
        "colab": {
          "base_uri": "https://localhost:8080/"
        }
      },
      "source": [
        "# Install kagglehub\n",
        "# !pip install kagglehub\n",
        "\n",
        "import kagglehub\n",
        "\n",
        "# Download latest version\n",
        "path = kagglehub.dataset_download(\"briscdataset/brisc2025\")\n",
        "path = os.path.join(path,\"brisc2025\")\n"
      ],
      "id": "e4880b12",
      "execution_count": 2,
      "outputs": [
        {
          "output_type": "stream",
          "name": "stdout",
          "text": [
            "Using Colab cache for faster access to the 'brisc2025' dataset.\n"
          ]
        }
      ]
    },
    {
      "cell_type": "code",
      "source": [
        "print(\"Downloaded dataset path:\", path)\n",
        "print(\"Contents:\", os.listdir(path))"
      ],
      "metadata": {
        "id": "0m5SWFv_g_YK",
        "outputId": "d3083867-c116-4405-f4fe-d85773d69515",
        "colab": {
          "base_uri": "https://localhost:8080/"
        }
      },
      "id": "0m5SWFv_g_YK",
      "execution_count": 3,
      "outputs": [
        {
          "output_type": "stream",
          "name": "stdout",
          "text": [
            "Downloaded dataset path: /kaggle/input/brisc2025/brisc2025\n",
            "Contents: ['segmentation_task', 'classification_task']\n"
          ]
        }
      ]
    },
    {
      "cell_type": "markdown",
      "source": [
        "###Path setup"
      ],
      "metadata": {
        "id": "9wUHAX-_dB7k"
      },
      "id": "9wUHAX-_dB7k"
    },
    {
      "cell_type": "markdown",
      "source": [
        "###Segmentations data class"
      ],
      "metadata": {
        "id": "lTXXydybdCCi"
      },
      "id": "lTXXydybdCCi"
    },
    {
      "cell_type": "code",
      "source": [
        "\n",
        "\n",
        "class BrainSegmentationDataset(Dataset):\n",
        "    def __init__(self, images_dir, masks_dir, transform=None, target_transform=None):\n",
        "        self.images_dir = images_dir\n",
        "        self.masks_dir = masks_dir\n",
        "        self.transform = transform\n",
        "        self.target_transform = target_transform\n",
        "\n",
        "        self.images = sorted(os.listdir(images_dir))\n",
        "        self.masks = sorted(os.listdir(masks_dir))\n",
        "\n",
        "        assert len(self.images) == len(self.masks), \"Number of images and masks must match!\"\n",
        "\n",
        "    def __len__(self):\n",
        "        return len(self.images)\n",
        "\n",
        "    def __getitem__(self, idx):\n",
        "        img_path = os.path.join(self.images_dir, self.images[idx])\n",
        "        mask_path = os.path.join(self.masks_dir, self.masks[idx])\n",
        "\n",
        "        image = Image.open(img_path).convert(\"RGB\")\n",
        "        mask = Image.open(mask_path).convert(\"L\")  # grayscale mask\n",
        "\n",
        "        if self.transform:\n",
        "            image = self.transform(image)\n",
        "        if self.target_transform:\n",
        "            mask = self.target_transform(mask)\n",
        "\n",
        "        return image, mask\n"
      ],
      "metadata": {
        "id": "0vyU1ptScNR5"
      },
      "id": "0vyU1ptScNR5",
      "execution_count": 5,
      "outputs": []
    },
    {
      "cell_type": "markdown",
      "source": [
        "###classification data func"
      ],
      "metadata": {
        "id": "n5a3Wwv_dLZM"
      },
      "id": "n5a3Wwv_dLZM"
    },
    {
      "cell_type": "code",
      "source": [
        "def get_classification_dataset(root_dir, transform=None):\n",
        "    \"\"\"\n",
        "    Loads classification dataset where images are stored in class subfolders.\n",
        "    Example:\n",
        "        root_dir/train/glioma, meningioma, pituitary, no_tumor\n",
        "    \"\"\"\n",
        "    return datasets.ImageFolder(root=root_dir, transform=transform)\n"
      ],
      "metadata": {
        "id": "c0UoU6G2c5PC"
      },
      "id": "c0UoU6G2c5PC",
      "execution_count": 6,
      "outputs": []
    },
    {
      "cell_type": "code",
      "source": [
        "# --- transforms ---\n",
        "transform_img = transforms.Compose([\n",
        "    transforms.Resize((600, 600)),\n",
        "    transforms.ToTensor()\n",
        "])\n",
        "\n",
        "transform_mask = transforms.Compose([\n",
        "    transforms.Resize((600, 600)),\n",
        "    transforms.ToTensor()\n",
        "])\n",
        "\n",
        "# --- Segmentation Train Loader ---\n",
        "seg_train = BrainSegmentationDataset(\n",
        "    images_dir=os.path.join(path, \"segmentation_task/train/images\"),\n",
        "    masks_dir=os.path.join(path, \"segmentation_task/train/masks\"),\n",
        "    transform=transform_img,\n",
        "    target_transform=transform_mask\n",
        ")\n",
        "\n",
        "\n",
        "# --- Classification Train Loader ---\n",
        "cls_train_dataset = get_classification_dataset(\n",
        "    root_dir=os.path.join(path, \"classification_task/train\"),\n",
        "    transform=transform_img\n",
        ")\n",
        "\n",
        "# cls_train_loader = DataLoader(cls_train_dataset, batch_size=16, shuffle=True)\n",
        "# def seperateImgLabel(dataset):\n",
        "#     X = []\n",
        "#     y = []\n",
        "#     for itm in dataset.imgs:\n",
        "#         img_path, label = itm\n",
        "#         X.append(img_path)\n",
        "#         y.append(label)\n",
        "#     return np.array(X), np.array(y)\n",
        "\n",
        "# cls_X, cls_y = seperateImgLabel(cls_train_dataset)"
      ],
      "metadata": {
        "id": "h5KzlzYbdBI7"
      },
      "id": "h5KzlzYbdBI7",
      "execution_count": 7,
      "outputs": []
    },
    {
      "cell_type": "code",
      "source": [
        "def load_all_images_labels(dataset, img_size=(224, 224)):\n",
        "    transform = transforms.Compose([\n",
        "        transforms.Resize(img_size),\n",
        "        transforms.ToTensor()\n",
        "    ])\n",
        "\n",
        "    X, y = [], []\n",
        "    for img_path, label in dataset.imgs:\n",
        "        img = Image.open(img_path).convert(\"RGB\")\n",
        "        img = transform(img)\n",
        "        X.append(img)\n",
        "        y.append(label)\n",
        "\n",
        "    X = torch.stack(X)\n",
        "    y = torch.tensor(y)\n",
        "    return X, y"
      ],
      "metadata": {
        "id": "ke80XdbW5Oq7"
      },
      "id": "ke80XdbW5Oq7",
      "execution_count": 8,
      "outputs": []
    },
    {
      "cell_type": "code",
      "source": [
        "cls_X, cls_y = load_all_images_labels(cls_train_dataset)\n",
        "print(cls_X)"
      ],
      "metadata": {
        "collapsed": true,
        "colab": {
          "base_uri": "https://localhost:8080/"
        },
        "id": "IrdYW_t2pDIX",
        "outputId": "bd88edd3-0000-40d6-f7c4-d4549b9c1b4e"
      },
      "id": "IrdYW_t2pDIX",
      "execution_count": 9,
      "outputs": [
        {
          "output_type": "stream",
          "name": "stdout",
          "text": [
            "tensor([[[[0.0000, 0.0000, 0.0000,  ..., 0.0000, 0.0000, 0.0000],\n",
            "          [0.0000, 0.0000, 0.0000,  ..., 0.0000, 0.0000, 0.0000],\n",
            "          [0.0000, 0.0000, 0.0000,  ..., 0.0000, 0.0000, 0.0000],\n",
            "          ...,\n",
            "          [0.0000, 0.0000, 0.0000,  ..., 0.0000, 0.0000, 0.0000],\n",
            "          [0.0000, 0.0000, 0.0000,  ..., 0.0000, 0.0000, 0.0000],\n",
            "          [0.0000, 0.0000, 0.0000,  ..., 0.0000, 0.0000, 0.0000]],\n",
            "\n",
            "         [[0.0000, 0.0000, 0.0000,  ..., 0.0000, 0.0000, 0.0000],\n",
            "          [0.0000, 0.0000, 0.0000,  ..., 0.0000, 0.0000, 0.0000],\n",
            "          [0.0000, 0.0000, 0.0000,  ..., 0.0000, 0.0000, 0.0000],\n",
            "          ...,\n",
            "          [0.0000, 0.0000, 0.0000,  ..., 0.0000, 0.0000, 0.0000],\n",
            "          [0.0000, 0.0000, 0.0000,  ..., 0.0000, 0.0000, 0.0000],\n",
            "          [0.0000, 0.0000, 0.0000,  ..., 0.0000, 0.0000, 0.0000]],\n",
            "\n",
            "         [[0.0000, 0.0000, 0.0000,  ..., 0.0000, 0.0000, 0.0000],\n",
            "          [0.0000, 0.0000, 0.0000,  ..., 0.0000, 0.0000, 0.0000],\n",
            "          [0.0000, 0.0000, 0.0000,  ..., 0.0000, 0.0000, 0.0000],\n",
            "          ...,\n",
            "          [0.0000, 0.0000, 0.0000,  ..., 0.0000, 0.0000, 0.0000],\n",
            "          [0.0000, 0.0000, 0.0000,  ..., 0.0000, 0.0000, 0.0000],\n",
            "          [0.0000, 0.0000, 0.0000,  ..., 0.0000, 0.0000, 0.0000]]],\n",
            "\n",
            "\n",
            "        [[[0.0000, 0.0000, 0.0000,  ..., 0.0000, 0.0000, 0.0000],\n",
            "          [0.0000, 0.0000, 0.0000,  ..., 0.0000, 0.0000, 0.0000],\n",
            "          [0.0000, 0.0000, 0.0000,  ..., 0.0000, 0.0000, 0.0000],\n",
            "          ...,\n",
            "          [0.0000, 0.0000, 0.0000,  ..., 0.0000, 0.0000, 0.0000],\n",
            "          [0.0000, 0.0000, 0.0000,  ..., 0.0000, 0.0000, 0.0000],\n",
            "          [0.0000, 0.0000, 0.0000,  ..., 0.0000, 0.0000, 0.0000]],\n",
            "\n",
            "         [[0.0000, 0.0000, 0.0000,  ..., 0.0000, 0.0000, 0.0000],\n",
            "          [0.0000, 0.0000, 0.0000,  ..., 0.0000, 0.0000, 0.0000],\n",
            "          [0.0000, 0.0000, 0.0000,  ..., 0.0000, 0.0000, 0.0000],\n",
            "          ...,\n",
            "          [0.0000, 0.0000, 0.0000,  ..., 0.0000, 0.0000, 0.0000],\n",
            "          [0.0000, 0.0000, 0.0000,  ..., 0.0000, 0.0000, 0.0000],\n",
            "          [0.0000, 0.0000, 0.0000,  ..., 0.0000, 0.0000, 0.0000]],\n",
            "\n",
            "         [[0.0000, 0.0000, 0.0000,  ..., 0.0000, 0.0000, 0.0000],\n",
            "          [0.0000, 0.0000, 0.0000,  ..., 0.0000, 0.0000, 0.0000],\n",
            "          [0.0000, 0.0000, 0.0000,  ..., 0.0000, 0.0000, 0.0000],\n",
            "          ...,\n",
            "          [0.0000, 0.0000, 0.0000,  ..., 0.0000, 0.0000, 0.0000],\n",
            "          [0.0000, 0.0000, 0.0000,  ..., 0.0000, 0.0000, 0.0000],\n",
            "          [0.0000, 0.0000, 0.0000,  ..., 0.0000, 0.0000, 0.0000]]],\n",
            "\n",
            "\n",
            "        [[[0.0000, 0.0000, 0.0000,  ..., 0.0000, 0.0000, 0.0000],\n",
            "          [0.0000, 0.0000, 0.0000,  ..., 0.0000, 0.0000, 0.0000],\n",
            "          [0.0000, 0.0000, 0.0000,  ..., 0.0000, 0.0000, 0.0000],\n",
            "          ...,\n",
            "          [0.0000, 0.0000, 0.0000,  ..., 0.0000, 0.0000, 0.0000],\n",
            "          [0.0000, 0.0000, 0.0000,  ..., 0.0000, 0.0000, 0.0000],\n",
            "          [0.0000, 0.0000, 0.0000,  ..., 0.0000, 0.0000, 0.0000]],\n",
            "\n",
            "         [[0.0000, 0.0000, 0.0000,  ..., 0.0000, 0.0000, 0.0000],\n",
            "          [0.0000, 0.0000, 0.0000,  ..., 0.0000, 0.0000, 0.0000],\n",
            "          [0.0000, 0.0000, 0.0000,  ..., 0.0000, 0.0000, 0.0000],\n",
            "          ...,\n",
            "          [0.0000, 0.0000, 0.0000,  ..., 0.0000, 0.0000, 0.0000],\n",
            "          [0.0000, 0.0000, 0.0000,  ..., 0.0000, 0.0000, 0.0000],\n",
            "          [0.0000, 0.0000, 0.0000,  ..., 0.0000, 0.0000, 0.0000]],\n",
            "\n",
            "         [[0.0000, 0.0000, 0.0000,  ..., 0.0000, 0.0000, 0.0000],\n",
            "          [0.0000, 0.0000, 0.0000,  ..., 0.0000, 0.0000, 0.0000],\n",
            "          [0.0000, 0.0000, 0.0000,  ..., 0.0000, 0.0000, 0.0000],\n",
            "          ...,\n",
            "          [0.0000, 0.0000, 0.0000,  ..., 0.0000, 0.0000, 0.0000],\n",
            "          [0.0000, 0.0000, 0.0000,  ..., 0.0000, 0.0000, 0.0000],\n",
            "          [0.0000, 0.0000, 0.0000,  ..., 0.0000, 0.0000, 0.0000]]],\n",
            "\n",
            "\n",
            "        ...,\n",
            "\n",
            "\n",
            "        [[[0.0000, 0.0000, 0.0000,  ..., 0.0000, 0.0000, 0.0000],\n",
            "          [0.0039, 0.0039, 0.0039,  ..., 0.0000, 0.0000, 0.0000],\n",
            "          [0.0078, 0.0078, 0.0078,  ..., 0.0000, 0.0000, 0.0000],\n",
            "          ...,\n",
            "          [0.0078, 0.0078, 0.0078,  ..., 0.0039, 0.0039, 0.0039],\n",
            "          [0.0039, 0.0039, 0.0039,  ..., 0.0000, 0.0000, 0.0000],\n",
            "          [0.0000, 0.0000, 0.0000,  ..., 0.0000, 0.0000, 0.0000]],\n",
            "\n",
            "         [[0.0000, 0.0000, 0.0000,  ..., 0.0000, 0.0000, 0.0000],\n",
            "          [0.0039, 0.0039, 0.0039,  ..., 0.0000, 0.0000, 0.0000],\n",
            "          [0.0078, 0.0078, 0.0078,  ..., 0.0000, 0.0000, 0.0000],\n",
            "          ...,\n",
            "          [0.0078, 0.0078, 0.0078,  ..., 0.0039, 0.0039, 0.0039],\n",
            "          [0.0039, 0.0039, 0.0039,  ..., 0.0000, 0.0000, 0.0000],\n",
            "          [0.0000, 0.0000, 0.0000,  ..., 0.0000, 0.0000, 0.0000]],\n",
            "\n",
            "         [[0.0000, 0.0000, 0.0000,  ..., 0.0000, 0.0000, 0.0000],\n",
            "          [0.0039, 0.0039, 0.0039,  ..., 0.0000, 0.0000, 0.0000],\n",
            "          [0.0078, 0.0078, 0.0078,  ..., 0.0000, 0.0000, 0.0000],\n",
            "          ...,\n",
            "          [0.0078, 0.0078, 0.0078,  ..., 0.0039, 0.0039, 0.0039],\n",
            "          [0.0039, 0.0039, 0.0039,  ..., 0.0000, 0.0000, 0.0000],\n",
            "          [0.0000, 0.0000, 0.0000,  ..., 0.0000, 0.0000, 0.0000]]],\n",
            "\n",
            "\n",
            "        [[[0.0000, 0.0000, 0.0000,  ..., 0.0000, 0.0000, 0.0000],\n",
            "          [0.0039, 0.0039, 0.0039,  ..., 0.0000, 0.0000, 0.0000],\n",
            "          [0.0078, 0.0078, 0.0078,  ..., 0.0000, 0.0000, 0.0000],\n",
            "          ...,\n",
            "          [0.0078, 0.0078, 0.0078,  ..., 0.0000, 0.0000, 0.0000],\n",
            "          [0.0039, 0.0039, 0.0039,  ..., 0.0000, 0.0000, 0.0000],\n",
            "          [0.0000, 0.0000, 0.0000,  ..., 0.0000, 0.0000, 0.0000]],\n",
            "\n",
            "         [[0.0000, 0.0000, 0.0000,  ..., 0.0000, 0.0000, 0.0000],\n",
            "          [0.0039, 0.0039, 0.0039,  ..., 0.0000, 0.0000, 0.0000],\n",
            "          [0.0078, 0.0078, 0.0078,  ..., 0.0000, 0.0000, 0.0000],\n",
            "          ...,\n",
            "          [0.0078, 0.0078, 0.0078,  ..., 0.0000, 0.0000, 0.0000],\n",
            "          [0.0039, 0.0039, 0.0039,  ..., 0.0000, 0.0000, 0.0000],\n",
            "          [0.0000, 0.0000, 0.0000,  ..., 0.0000, 0.0000, 0.0000]],\n",
            "\n",
            "         [[0.0000, 0.0000, 0.0000,  ..., 0.0000, 0.0000, 0.0000],\n",
            "          [0.0039, 0.0039, 0.0039,  ..., 0.0000, 0.0000, 0.0000],\n",
            "          [0.0078, 0.0078, 0.0078,  ..., 0.0000, 0.0000, 0.0000],\n",
            "          ...,\n",
            "          [0.0078, 0.0078, 0.0078,  ..., 0.0000, 0.0000, 0.0000],\n",
            "          [0.0039, 0.0039, 0.0039,  ..., 0.0000, 0.0000, 0.0000],\n",
            "          [0.0000, 0.0000, 0.0000,  ..., 0.0000, 0.0000, 0.0000]]],\n",
            "\n",
            "\n",
            "        [[[0.0000, 0.0000, 0.0000,  ..., 0.0000, 0.0000, 0.0000],\n",
            "          [0.0039, 0.0039, 0.0039,  ..., 0.0000, 0.0000, 0.0000],\n",
            "          [0.0078, 0.0078, 0.0078,  ..., 0.0000, 0.0000, 0.0000],\n",
            "          ...,\n",
            "          [0.0078, 0.0078, 0.0078,  ..., 0.0000, 0.0000, 0.0000],\n",
            "          [0.0039, 0.0039, 0.0039,  ..., 0.0000, 0.0000, 0.0000],\n",
            "          [0.0000, 0.0000, 0.0000,  ..., 0.0000, 0.0000, 0.0000]],\n",
            "\n",
            "         [[0.0000, 0.0000, 0.0000,  ..., 0.0000, 0.0000, 0.0000],\n",
            "          [0.0039, 0.0039, 0.0039,  ..., 0.0000, 0.0000, 0.0000],\n",
            "          [0.0078, 0.0078, 0.0078,  ..., 0.0000, 0.0000, 0.0000],\n",
            "          ...,\n",
            "          [0.0078, 0.0078, 0.0078,  ..., 0.0000, 0.0000, 0.0000],\n",
            "          [0.0039, 0.0039, 0.0039,  ..., 0.0000, 0.0000, 0.0000],\n",
            "          [0.0000, 0.0000, 0.0000,  ..., 0.0000, 0.0000, 0.0000]],\n",
            "\n",
            "         [[0.0000, 0.0000, 0.0000,  ..., 0.0000, 0.0000, 0.0000],\n",
            "          [0.0039, 0.0039, 0.0039,  ..., 0.0000, 0.0000, 0.0000],\n",
            "          [0.0078, 0.0078, 0.0078,  ..., 0.0000, 0.0000, 0.0000],\n",
            "          ...,\n",
            "          [0.0078, 0.0078, 0.0078,  ..., 0.0000, 0.0000, 0.0000],\n",
            "          [0.0039, 0.0039, 0.0039,  ..., 0.0000, 0.0000, 0.0000],\n",
            "          [0.0000, 0.0000, 0.0000,  ..., 0.0000, 0.0000, 0.0000]]]])\n"
          ]
        }
      ]
    },
    {
      "cell_type": "code",
      "source": [
        "plt.title(f\"Class: {cls_train_dataset.classes[cls_y[2]]}\")\n",
        "plt.imshow(cls_X[2].permute(1, 2, 0))\n",
        "plt.axis(\"off\")\n",
        "plt.show()"
      ],
      "metadata": {
        "colab": {
          "base_uri": "https://localhost:8080/",
          "height": 428
        },
        "id": "xzw9FGPWrpkI",
        "outputId": "31fbdd23-74c1-4943-9f9a-e4f9d2c4466e"
      },
      "id": "xzw9FGPWrpkI",
      "execution_count": 10,
      "outputs": [
        {
          "output_type": "display_data",
          "data": {
            "text/plain": [
              "<Figure size 640x480 with 1 Axes>"
            ],
            "image/png": "[encoded data removed]"
          },
          "metadata": {}
        }
      ]
    },
    {
      "cell_type": "code",
      "source": [
        "cls_x_train, cls_x_test, cls_y_train, cls_y_test = train_test_split(cls_X, cls_y, test_size=0.2, random_state=42,stratify=cls_y)"
      ],
      "metadata": {
        "id": "1RIN593zsRbj"
      },
      "id": "1RIN593zsRbj",
      "execution_count": 11,
      "outputs": []
    },
    {
      "cell_type": "markdown",
      "source": [
        "##Unet"
      ],
      "metadata": {
        "id": "UsWVIjlVtoFW"
      },
      "id": "UsWVIjlVtoFW"
    },
    {
      "cell_type": "code",
      "source": [
        "class ConvBlock(nn.Module):\n",
        "    def __init__(self, in_channels, out_channels):\n",
        "        super().__init__()\n",
        "        self.double_conv = nn.Sequential(\n",
        "            nn.Conv2d(in_channels, out_channels, kernel_size=3, padding='same'),\n",
        "            nn.BatchNorm2d(out_channels),\n",
        "            nn.ReLU(inplace=True),\n",
        "\n",
        "            nn.Conv2d(out_channels, out_channels, kernel_size=3, padding='same'),\n",
        "            nn.BatchNorm2d(out_channels),\n",
        "            nn.ReLU(inplace=True)\n",
        "        )\n",
        "\n",
        "    def forward(self, x):\n",
        "        return self.double_conv(x)"
      ],
      "metadata": {
        "id": "A2zGb7u-tl5W"
      },
      "id": "A2zGb7u-tl5W",
      "execution_count": 12,
      "outputs": []
    },
    {
      "cell_type": "code",
      "source": [
        "class UNetEncoder(nn.Module):\n",
        "    def __init__(self, in_channels, first_out_channel=16):\n",
        "        super().__init__()\n",
        "\n",
        "        self.enc1 = ConvBlock(in_channels, first_out_channel)\n",
        "        self.enc2 = ConvBlock(first_out_channel, first_out_channel*2)\n",
        "        self.enc3 = ConvBlock(first_out_channel*2, first_out_channel*4)\n",
        "        self.pool = nn.MaxPool2d(kernel_size=2, stride=2)\n",
        "        #pooling layer can be reused as there are no learnable parameters\n",
        "\n",
        "    def forward(self, x):\n",
        "        x1 = self.enc1(x)              # 16 channels x 600\n",
        "        x2 = self.enc2(self.pool(x1))  # 32 channels x 300\n",
        "        x3 = self.enc3(self.pool(x2))  # 64 channels x 150\n",
        "\n",
        "        return x1, x2, x3"
      ],
      "metadata": {
        "id": "vdvauRkYt9ey"
      },
      "id": "vdvauRkYt9ey",
      "execution_count": 13,
      "outputs": []
    },
    {
      "cell_type": "code",
      "source": [
        "class UNetBottleneck(nn.Module):\n",
        "  def __init__(self, in_channels):\n",
        "    super().__init__()\n",
        "\n",
        "    self.enc = ConvBlock(in_channels, in_channels*2)\n",
        "    self.pool = nn.MaxPool2d(kernel_size=2, stride=2)\n",
        "\n",
        "  def forward(self, x):\n",
        "    return self.enc(self.pool(x))"
      ],
      "metadata": {
        "id": "tu2pTHzsuC55"
      },
      "id": "tu2pTHzsuC55",
      "execution_count": 14,
      "outputs": []
    },
    {
      "cell_type": "code",
      "source": [
        "class DecoderBlock(nn.Module):\n",
        "    def __init__(self, in_channels, out_channels):\n",
        "        super(DecoderBlock, self).__init__()\n",
        "\n",
        "        self.up = nn.ConvTranspose2d(in_channels, out_channels, kernel_size=2, stride=2)\n",
        "        self.conv = nn.Sequential(\n",
        "            nn.Conv2d(2*out_channels, out_channels, kernel_size=3, padding=1),\n",
        "            nn.BatchNorm2d(out_channels),\n",
        "            nn.ReLU(),\n",
        "            nn.Conv2d(out_channels, out_channels, kernel_size=3, padding=1),\n",
        "            nn.BatchNorm2d(out_channels),\n",
        "            nn.ReLU()\n",
        "        )\n",
        "        #the 2*out_channels in the first conv is used to accomodate the skip connection\n",
        "\n",
        "    def forward(self, x, skip):\n",
        "        x = self.up(x)\n",
        "        x = torch.cat([skip, x], dim=1)\n",
        "        x = self.conv(x)\n",
        "        return x"
      ],
      "metadata": {
        "id": "DEDDCibfuF5O"
      },
      "id": "DEDDCibfuF5O",
      "execution_count": 15,
      "outputs": []
    },
    {
      "cell_type": "code",
      "source": [
        "class UNetDecoder(nn.Module):\n",
        "    def __init__(self, in_channels = 128):\n",
        "        super().__init__()\n",
        "\n",
        "        self.decode1 = DecoderBlock(in_channels=in_channels, out_channels=in_channels//2)\n",
        "        self.decode2 = DecoderBlock(in_channels=in_channels//2, out_channels=in_channels//4)\n",
        "        self.decode3 = DecoderBlock(in_channels=in_channels//4, out_channels=in_channels//8)\n",
        "\n",
        "        self.final_conv = nn.Conv2d(in_channels//8, 1, kernel_size=1)  # Output 1 channel for binary segmentation\n",
        "\n",
        "    def forward(self, x4, x3, x2, x1):\n",
        "        x3 = self.decode1(x4, x3) # 64 channels x 150\n",
        "        x2 = self.decode2(x3, x2)  # 32 channels x 300\n",
        "        x1 = self.decode3(x2, x1)  # 16 channels x 600\n",
        "        x = self.final_conv(x1).squeeze(1) #1 channel x 600\n",
        "        return x"
      ],
      "metadata": {
        "id": "XPjbq2vCuNCb"
      },
      "id": "XPjbq2vCuNCb",
      "execution_count": 16,
      "outputs": []
    },
    {
      "cell_type": "code",
      "source": [
        "device = 'cuda' if torch.cuda.is_available() else 'cpu'\n",
        "\n",
        "encoder = UNetEncoder(1, 8).to(device)\n",
        "bottleneck = UNetBottleneck(32).to(device)\n",
        "decoder = UNetDecoder(64).to(device)\n",
        "#For each depth, the channel size doubles. Depth = 3 means a 3 times increase\n",
        "#The bottleneck layer also doubles the channel size. Hence the total increase is 3+1 = 4"
      ],
      "metadata": {
        "id": "4DfQBpJRuSdQ"
      },
      "id": "4DfQBpJRuSdQ",
      "execution_count": 17,
      "outputs": []
    },
    {
      "cell_type": "markdown",
      "source": [
        "###training"
      ],
      "metadata": {
        "id": "ZWzFvPpnueNB"
      },
      "id": "ZWzFvPpnueNB"
    },
    {
      "cell_type": "code",
      "source": [
        "class DiceLoss(nn.Module):\n",
        "    def __init__(self, epsilon=1.):\n",
        "        super().__init__()\n",
        "        self.epsilon = epsilon\n",
        "\n",
        "    def forward(self, preds, targets):\n",
        "        preds = torch.sigmoid(preds)  # raw logits to probabilities\n",
        "\n",
        "        intersection = (preds * targets).sum()\n",
        "        dice_loss = 1 - (2. * intersection + self.epsilon) / (preds.sum() + targets.sum() + self.epsilon)\n",
        "\n",
        "        return dice_loss"
      ],
      "metadata": {
        "id": "iCMSCoWPubH0"
      },
      "id": "iCMSCoWPubH0",
      "execution_count": 18,
      "outputs": []
    },
    {
      "cell_type": "code",
      "source": [
        "def calculate_iou(y_pred, y_true, threshold=0.5, eps=1e-6):\n",
        "    y_pred = torch.sigmoid(y_pred)\n",
        "    y_pred = (y_pred > threshold).float() #making it binaray\n",
        "\n",
        "    y_pred = y_pred.view(y_pred.shape[0], -1)\n",
        "    y_true = y_true.view(y_true.shape[0], -1)\n",
        "\n",
        "    intersection = (y_pred * y_true).sum(dim = 1)\n",
        "    union = y_pred.sum(dim = 1) + y_true.sum(dim = 1) - intersection\n",
        "\n",
        "    # Compute IoU\n",
        "    iou = (intersection + eps) / (union + eps)\n",
        "    return iou.mean()"
      ],
      "metadata": {
        "id": "D0fvT70au4SY"
      },
      "id": "D0fvT70au4SY",
      "execution_count": 19,
      "outputs": []
    },
    {
      "cell_type": "code",
      "source": [
        "# train_loader = BatchLoader(x_train, y_mask_train, y_train, shuffle = True, batch_size = 8, device = device)\n",
        "# test_loader = BatchLoader(x_test, y_mask_test, y_test, shuffle = False, batch_size = 8, device = device)"
      ],
      "metadata": {
        "id": "mvET4ocjvgh2"
      },
      "id": "mvET4ocjvgh2",
      "execution_count": 20,
      "outputs": []
    },
    {
      "cell_type": "markdown",
      "source": [
        "###segmentations"
      ],
      "metadata": {
        "id": "G1YnQA1Lv3yi"
      },
      "id": "G1YnQA1Lv3yi"
    },
    {
      "cell_type": "code",
      "source": [
        "# optim = torch.optim.AdamW(list(encoder.parameters()) + list(decoder.parameters()), lr = 0.05) #AdamW is used for regularization\n",
        "# dice_loss = DiceLoss()\n",
        "# bce_loss = nn.BCEWithLogitsLoss()\n",
        "\n",
        "\n",
        "# epochs = 5\n",
        "\n",
        "# for epoch in range(epochs):\n",
        "#     print(f\"Epoch - {epoch + 1}\")\n",
        "\n",
        "#     train_bce_loss = 0\n",
        "#     train_dice_loss = 0\n",
        "#     train_iou = 0\n",
        "\n",
        "#     encoder.train()\n",
        "#     decoder.train()\n",
        "\n",
        "#     for i in range(cls_x_train.len):\n",
        "#         x, y_true = cls_x_train.next('classification')\n",
        "#         x1, x2, x3 = encoder(x.unsqueeze(1))\n",
        "#         x4 = bottleneck(x3)\n",
        "#         y_predict = decoder(x4, x3, x2, x1)\n",
        "\n",
        "#         bce = bce_loss(y_predict, y_true.float())\n",
        "#         dice = dice_loss(y_predict, y_true)\n",
        "\n",
        "#         #these weights may not give you the best results\n",
        "#         loss = 0.2*bce + 0.8*dice\n",
        "\n",
        "#         train_bce_loss += bce\n",
        "#         train_dice_loss += dice\n",
        "#         train_iou += calculate_iou(y_predict, y_true.float())\n",
        "\n",
        "#         optim.zero_grad()\n",
        "#         loss.backward()\n",
        "#         optim.step()\n",
        "\n",
        "#     print(f\"Train BCE loss - {train_bce_loss/cls_x_train.len:4f} | Train Dice loss - {train_dice_loss/cls_x_train.len:4f} | Train IoU - {train_iou/cls_x_train.len:4f}\")\n",
        "\n",
        "#     test_bce_loss = 0\n",
        "#     test_dice_loss = 0\n",
        "#     test_iou = 0\n",
        "\n",
        "#     encoder.eval()\n",
        "#     decoder.eval()\n",
        "\n",
        "#     with torch.no_grad():\n",
        "#         for i in range(test_loader.len):\n",
        "#             x, y_true = test_loader.next('segmentation')\n",
        "#             x1, x2, x3 = encoder(x.unsqueeze(1))\n",
        "#             x4 = bottleneck(x3)\n",
        "#             y_predict = decoder(x4, x3, x2, x1)\n",
        "\n",
        "#             bce = bce_loss(y_predict, y_true.float())\n",
        "#             dice = dice_loss(y_predict, y_true)\n",
        "\n",
        "#             test_bce_loss += bce\n",
        "#             test_dice_loss += dice\n",
        "#             test_iou += calculate_iou(y_predict, y_true.float())\n",
        "\n",
        "#     print(f\"Test BCE loss - {test_bce_loss/test_loader.len:4f} | Test Dice loss - {test_dice_loss/test_loader.len:4f} | Test IoU - {test_iou/test_loader.len:4f}\")\n",
        "#     print(\"\\n\")"
      ],
      "metadata": {
        "id": "-3gyTNLMuhC1"
      },
      "id": "-3gyTNLMuhC1",
      "execution_count": 21,
      "outputs": []
    },
    {
      "cell_type": "markdown",
      "source": [
        "###classifications"
      ],
      "metadata": {
        "id": "1zzIQJrrvz-t"
      },
      "id": "1zzIQJrrvz-t"
    },
    {
      "cell_type": "code",
      "source": [
        "class Classifier(nn.Module):\n",
        "    def __init__(self, in_channels = 32, num_classes = 3):\n",
        "        super().__init__()\n",
        "        self.conv1 = nn.Conv2d(in_channels, in_channels*2, 3)\n",
        "        self.conv2 = nn.Conv2d(in_channels*2, in_channels, 3)\n",
        "        self.conv3 = nn.Conv2d(in_channels, num_classes, 3)\n",
        "\n",
        "    def forward(self, x):\n",
        "        x = F.max_pool2d(F.relu(self.conv1(x)), 2, stride = 2)\n",
        "        x = F.max_pool2d(F.relu(self.conv2(x)), 2, stride = 2)\n",
        "        x = F.adaptive_avg_pool2d(self.conv3(x), (1, 1)).squeeze((-1,-2))\n",
        "\n",
        "        return x"
      ],
      "metadata": {
        "id": "2rlSVORov8gE"
      },
      "id": "2rlSVORov8gE",
      "execution_count": 22,
      "outputs": []
    },
    {
      "cell_type": "code",
      "source": [],
      "metadata": {
        "id": "wLsc_I8KRFX7"
      },
      "id": "wLsc_I8KRFX7",
      "execution_count": null,
      "outputs": []
    },
    {
      "cell_type": "code",
      "source": [
        "device = 'cuda' if torch.cuda.is_available() else 'cpu'\n",
        "\n",
        "train_loader = DataLoader(cls_x_train, cls_y_train, shuffle = True, batch_size = 8, device = device)\n",
        "test_loader = DataLoader(cls_x_test, cls_y_test, shuffle = False, batch_size = 8, device = device)\n",
        "\n",
        "#instantiating U-Net\n",
        "encoder = UNetEncoder(1, 8).to(device)\n",
        "bottleneck = UNetBottleneck(32).to(device)\n",
        "decoder = UNetDecoder(64).to(device)\n",
        "\n",
        "#instantiating classifier\n",
        "classifier = Classifier(64).to(device)\n",
        "\n",
        "#optimizer needs the parameters from both the U-Net and classifier networks\n",
        "optim = torch.optim.AdamW(list(encoder.parameters()) + list(decoder.parameters()), lr = 0.005)\n",
        "dice_loss = DiceLoss()\n",
        "bce_loss = nn.BCEWithLogitsLoss()\n",
        "\n",
        "#class weights can be added for the classification part to get better training in imbalanced data\n",
        "class_weights = compute_class_weight('balanced', classes=np.unique(y), y=y)\n",
        "class_weights = torch.tensor(class_weights, dtype=torch.float32)\n",
        "\n",
        "#classifier will need multi cross entropy as there are 3 classes\n",
        "classifier_loss_fn = nn.CrossEntropyLoss(weight = class_weights.to(device))\n",
        "\n",
        "epochs = 25\n",
        "\n",
        "for epoch in range(epochs):\n",
        "    print(f\"Epoch - {epoch + 1}\")\n",
        "\n",
        "    train_bce_loss = 0\n",
        "    train_dice_loss = 0\n",
        "    train_iou = 0\n",
        "    train_classifier_loss = 0\n",
        "    train_correct = 0\n",
        "    train_samples = 0\n",
        "\n",
        "    encoder.train()\n",
        "    decoder.train()\n",
        "\n",
        "    for i in range(train_loader.len):\n",
        "        x, y_label= train_loader.next('classification')\n",
        "        x1, x2, x3 = encoder(x.unsqueeze(1))\n",
        "        x4 = bottleneck(x3)\n",
        "        y_predict_mask = decoder(x4, x3, x2, x1)\n",
        "        y_predict_label = classifier(x4)\n",
        "\n",
        "        bce = bce_loss(y_predict_mask)\n",
        "        dice = dice_loss(y_predict_mask)\n",
        "        classifier_loss = classifier_loss_fn(y_predict_label, y_label)\n",
        "\n",
        "        #these weights may not give you the best results\n",
        "        loss = (0.2*bce + 0.8*dice)/2 + 0.5*classifier_loss\n",
        "\n",
        "        train_bce_loss += bce\n",
        "        train_dice_loss += dice\n",
        "        train_iou += calculate_iou(y_predict_mask)\n",
        "        train_classifier_loss += classifier_loss\n",
        "        train_correct += (y_predict_label.argmax(dim = 1) == y_label).sum().item()\n",
        "        train_samples += y_label.shape[0]\n",
        "\n",
        "        optim.zero_grad()\n",
        "        loss.backward()\n",
        "        optim.step()\n",
        "\n",
        "    print(f\"Train BCE loss - {train_bce_loss/train_loader.len:4f}\")\n",
        "    print(f\"Train Dice loss - {train_dice_loss/train_loader.len:4f}\")\n",
        "    print(f\"Train IoU - {train_iou/train_loader.len:4f}\")\n",
        "    print(f\"Train Classifier loss - {train_classifier_loss/train_loader.len:4f}\")\n",
        "    print(f\"Train accuracy - {train_correct/train_samples:4f}\")\n",
        "\n",
        "    test_bce_loss = 0\n",
        "    test_dice_loss = 0\n",
        "    test_iou = 0\n",
        "    test_classifier_loss = 0\n",
        "    test_correct = 0\n",
        "    test_samples = 0\n",
        "\n",
        "    encoder.eval()\n",
        "    decoder.eval()\n",
        "\n",
        "    with torch.no_grad():\n",
        "        for i in range(test_loader.len):\n",
        "            x, y_label  = test_loader.next('classification')\n",
        "            x1, x2, x3 = encoder(x.unsqueeze(1))\n",
        "            x4 = bottleneck(x3)\n",
        "            y_predict_mask = decoder(x4, x3, x2, x1)\n",
        "            y_predict_label = classifier(x4)\n",
        "\n",
        "            bce = bce_loss(y_predict_mask)\n",
        "            dice = dice_loss(y_predict_mask, )\n",
        "            classifier_loss = classifier_loss_fn(y_predict_label, y_label)\n",
        "\n",
        "            test_bce_loss += bce\n",
        "            test_dice_loss += dice\n",
        "            test_iou += calculate_iou(y_predict_mask)\n",
        "            test_classifier_loss += classifier_loss\n",
        "            test_correct += (y_predict_label.argmax(dim = 1) == y_label).sum().item()\n",
        "            test_samples += y_label.shape[0]\n",
        "\n",
        "        print(f\"\\nTest BCE loss - {test_bce_loss/test_loader.len:4f}\")\n",
        "        print(f\"Test Dice loss - {test_dice_loss/test_loader.len:4f}\")\n",
        "        print(f\"Test IoU - {test_iou/test_loader.len:4f}\")\n",
        "        print(f\"Test Classifier loss - {test_classifier_loss/test_loader.len:4f}\")\n",
        "        print(f\"Test accuracy - {test_correct/test_samples:4f}\\n\")"
      ],
      "metadata": {
        "colab": {
          "base_uri": "https://localhost:8080/",
          "height": 211
        },
        "id": "WUlGuXX-wcLe",
        "outputId": "04fc4986-2a7d-45ed-8547-d2e7284d5989"
      },
      "id": "WUlGuXX-wcLe",
      "execution_count": 24,
      "outputs": [
        {
          "output_type": "error",
          "ename": "TypeError",
          "evalue": "DataLoader.__init__() got multiple values for argument 'batch_size'",
          "traceback": [
            "\u001b[0;31m---------------------------------------------------------------------------\u001b[0m",
            "\u001b[0;31mTypeError\u001b[0m                                 Traceback (most recent call last)",
            "\u001b[0;32m/tmp/ipython-input-2856100374.py\u001b[0m in \u001b[0;36m<cell line: 0>\u001b[0;34m()\u001b[0m\n\u001b[1;32m      1\u001b[0m \u001b[0mdevice\u001b[0m \u001b[0;34m=\u001b[0m \u001b[0;34m'cuda'\u001b[0m \u001b[0;32mif\u001b[0m \u001b[0mtorch\u001b[0m\u001b[0;34m.\u001b[0m\u001b[0mcuda\u001b[0m\u001b[0;34m.\u001b[0m\u001b[0mis_available\u001b[0m\u001b[0;34m(\u001b[0m\u001b[0;34m)\u001b[0m \u001b[0;32melse\u001b[0m \u001b[0;34m'cpu'\u001b[0m\u001b[0;34m\u001b[0m\u001b[0;34m\u001b[0m\u001b[0m\n\u001b[1;32m      2\u001b[0m \u001b[0;34m\u001b[0m\u001b[0m\n\u001b[0;32m----> 3\u001b[0;31m \u001b[0mtrain_loader\u001b[0m \u001b[0;34m=\u001b[0m \u001b[0mDataLoader\u001b[0m\u001b[0;34m(\u001b[0m\u001b[0mcls_x_train\u001b[0m\u001b[0;34m,\u001b[0m \u001b[0mcls_y_train\u001b[0m\u001b[0;34m,\u001b[0m \u001b[0mshuffle\u001b[0m \u001b[0;34m=\u001b[0m \u001b[0;32mTrue\u001b[0m\u001b[0;34m,\u001b[0m \u001b[0mbatch_size\u001b[0m \u001b[0;34m=\u001b[0m \u001b[0;36m8\u001b[0m\u001b[0;34m,\u001b[0m \u001b[0mdevice\u001b[0m \u001b[0;34m=\u001b[0m \u001b[0mdevice\u001b[0m\u001b[0;34m)\u001b[0m\u001b[0;34m\u001b[0m\u001b[0;34m\u001b[0m\u001b[0m\n\u001b[0m\u001b[1;32m      4\u001b[0m \u001b[0mtest_loader\u001b[0m \u001b[0;34m=\u001b[0m \u001b[0mDataLoader\u001b[0m\u001b[0;34m(\u001b[0m\u001b[0mcls_x_test\u001b[0m\u001b[0;34m,\u001b[0m \u001b[0mcls_y_test\u001b[0m\u001b[0;34m,\u001b[0m \u001b[0mshuffle\u001b[0m \u001b[0;34m=\u001b[0m \u001b[0;32mFalse\u001b[0m\u001b[0;34m,\u001b[0m \u001b[0mbatch_size\u001b[0m \u001b[0;34m=\u001b[0m \u001b[0;36m8\u001b[0m\u001b[0;34m,\u001b[0m \u001b[0mdevice\u001b[0m \u001b[0;34m=\u001b[0m \u001b[0mdevice\u001b[0m\u001b[0;34m)\u001b[0m\u001b[0;34m\u001b[0m\u001b[0;34m\u001b[0m\u001b[0m\n\u001b[1;32m      5\u001b[0m \u001b[0;34m\u001b[0m\u001b[0m\n",
            "\u001b[0;31mTypeError\u001b[0m: DataLoader.__init__() got multiple values for argument 'batch_size'"
          ]
        }
      ]
    },
    {
      "cell_type": "code",
      "source": [],
      "metadata": {
        "id": "KX_O_TYnQXRh"
      },
      "id": "KX_O_TYnQXRh",
      "execution_count": null,
      "outputs": []
    }
  ],
  "metadata": {
    "kernelspec": {
      "display_name": "Python 3",
      "name": "python3"
    },
    "language_info": {
      "codemirror_mode": {
        "name": "ipython",
        "version": 3
      },
      "file_extension": ".py",
      "mimetype": "text/x-python",
      "name": "python",
      "nbconvert_exporter": "python",
      "pygments_lexer": "ipython3",
      "version": "3.11.6"
    },
    "colab": {
      "provenance": [],
      "gpuType": "T4",
      "include_colab_link": true
    },
    "accelerator": "GPU"
  },
  "nbformat": 4,
  "nbformat_minor": 5
}