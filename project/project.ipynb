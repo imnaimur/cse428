{
 "cells": [
  {
   "cell_type": "code",
   "execution_count": null,
   "id": "a3f42d69",
   "metadata": {},
   "outputs": [],
   "source": [
    "from google.colab import drive\n",
    "drive.mount('/content/drive')"
   ]
  },
  {
   "cell_type": "code",
   "execution_count": null,
   "id": "625c819b",
   "metadata": {},
   "outputs": [],
   "source": [
    "# Define the path in your Google Drive where you want to save the model\n",
    "MODEL_SAVE_PATH = \"/content/drive/MyDrive/BRISC2025_Project/best_unet_model.pth\"\n",
    "CHECKPOINT_PATH = \"/content/drive/MyDrive/BRISC2025_Project/latest_checkpoint.pth\"\n",
    "RESULTS_SAVE_PATH = \"/content/drive/MyDrive/BRISC2025_Project/training_results.pth\""
   ]
  },
  {
   "cell_type": "code",
   "execution_count": null,
   "id": "c1d7eadc",
   "metadata": {},
   "outputs": [],
   "source": [
    "import os\n",
    "import numpy as np\n",
    "import matplotlib.pyplot as plt\n",
    "import skimage\n",
    "import pandas as pd\n",
    "import torch\n",
    "import torch.nn as nn\n",
    "import torch.nn.functional as F\n",
    "from sklearn.model_selection import train_test_split\n",
    "from sklearn.utils.class_weight import compute_class_weight"
   ]
  },
  {
   "cell_type": "markdown",
   "id": "afdfe2dd",
   "metadata": {},
   "source": [
    "##Data preperations"
   ]
  },
  {
   "cell_type": "code",
   "execution_count": null,
   "id": "28469a27",
   "metadata": {},
   "outputs": [],
   "source": [
    "data_dir = \"/content/BUS-UCLM Breast ultrasound lesion segmentation dataset/BUS-UCLM/images\"\n",
    "mask_dir = \"/content/BUS-UCLM Breast ultrasound lesion segmentation dataset/BUS-UCLM/masks\"\n",
    "info = pd.read_csv(\"INFO.csv\", sep = ';')\n",
    "\n",
    "data_lst = os.listdir(data_dir)"
   ]
  },
  {
   "cell_type": "code",
   "execution_count": 3,
   "id": "66837a6a",
   "metadata": {},
   "outputs": [
    {
     "ename": "ModuleNotFoundError",
     "evalue": "No module named 'kugglehub'",
     "output_type": "error",
     "traceback": [
      "\u001b[31m---------------------------------------------------------------------------\u001b[39m",
      "\u001b[31mModuleNotFoundError\u001b[39m                       Traceback (most recent call last)",
      "\u001b[36mCell\u001b[39m\u001b[36m \u001b[39m\u001b[32mIn[3]\u001b[39m\u001b[32m, line 1\u001b[39m\n\u001b[32m----> \u001b[39m\u001b[32m1\u001b[39m \u001b[38;5;28;01mimport\u001b[39;00m\u001b[38;5;250m \u001b[39m\u001b[34;01mkugglehub\u001b[39;00m\n",
      "\u001b[31mModuleNotFoundError\u001b[39m: No module named 'kugglehub'"
     ]
    }
   ],
   "source": [
    "import kugglehub"
   ]
  }
 ],
 "metadata": {
  "kernelspec": {
   "display_name": ".venv",
   "language": "python",
   "name": "python3"
  },
  "language_info": {
   "codemirror_mode": {
    "name": "ipython",
    "version": 3
   },
   "file_extension": ".py",
   "mimetype": "text/x-python",
   "name": "python",
   "nbconvert_exporter": "python",
   "pygments_lexer": "ipython3",
   "version": "3.11.6"
  }
 },
 "nbformat": 4,
 "nbformat_minor": 5
}
