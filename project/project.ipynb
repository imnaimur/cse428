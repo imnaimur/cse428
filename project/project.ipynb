{
  "cells": [
    {
      "cell_type": "code",
      "execution_count": 2,
      "id": "a3f42d69",
      "metadata": {
        "colab": {
          "base_uri": "https://localhost:8080/"
        },
        "id": "a3f42d69",
        "outputId": "b5ff05dd-bb3b-4dc5-d713-7e9395e9ecbf"
      },
      "outputs": [
        {
          "output_type": "stream",
          "name": "stdout",
          "text": [
            "Mounted at /content/drive\n"
          ]
        }
      ],
      "source": [
        "from google.colab import drive\n",
        "drive.mount('/content/drive')"
      ]
    },
    {
      "cell_type": "code",
      "execution_count": null,
      "id": "625c819b",
      "metadata": {
        "id": "625c819b"
      },
      "outputs": [],
      "source": [
        "# Define the path in your Google Drive where you want to save the model\n",
        "MODEL_SAVE_PATH = \"/content/drive/MyDrive/BRISC2025_Project/best_unet_model.pth\"\n",
        "CHECKPOINT_PATH = \"/content/drive/MyDrive/BRISC2025_Project/latest_checkpoint.pth\"\n",
        "RESULTS_SAVE_PATH = \"/content/drive/MyDrive/BRISC2025_Project/training_results.pth\""
      ]
    },
    {
      "cell_type": "code",
      "execution_count": 3,
      "id": "c1d7eadc",
      "metadata": {
        "id": "c1d7eadc"
      },
      "outputs": [],
      "source": [
        "import os\n",
        "import numpy as np\n",
        "import matplotlib.pyplot as plt\n",
        "import skimage\n",
        "import pandas as pd\n",
        "import torch\n",
        "import torch.nn as nn\n",
        "import torch.nn.functional as F\n",
        "from sklearn.model_selection import train_test_split\n",
        "from sklearn.utils.class_weight import compute_class_weight\n",
        "from pathlib import Path"
      ]
    },
    {
      "cell_type": "markdown",
      "id": "afdfe2dd",
      "metadata": {
        "id": "afdfe2dd"
      },
      "source": [
        "##Data preperations"
      ]
    },
    {
      "cell_type": "code",
      "execution_count": null,
      "id": "28469a27",
      "metadata": {
        "id": "28469a27"
      },
      "outputs": [],
      "source": [
        "data_dir = \"/content/BUS-UCLM Breast ultrasound lesion segmentation dataset/BUS-UCLM/images\"\n",
        "mask_dir = \"/content/BUS-UCLM Breast ultrasound lesion segmentation dataset/BUS-UCLM/masks\"\n",
        "info = pd.read_csv(\"INFO.csv\", sep = ';')\n",
        "\n",
        "data_lst = os.listdir(data_dir)"
      ]
    },
    {
      "cell_type": "code",
      "source": [],
      "metadata": {
        "id": "14Onfi_FbBZ9"
      },
      "id": "14Onfi_FbBZ9",
      "execution_count": null,
      "outputs": []
    },
    {
      "cell_type": "code",
      "metadata": {
        "id": "e4880b12",
        "outputId": "63a114e5-918a-4f9b-af4c-5141d29ab4fc",
        "colab": {
          "base_uri": "https://localhost:8080/"
        }
      },
      "source": [
        "# Install kagglehub\n",
        "# !pip install kagglehub\n",
        "\n",
        "import kagglehub\n",
        "\n",
        "# Download latest version\n",
        "path = kagglehub.dataset_download(\"briscdataset/brisc2025\")\n",
        "\n",
        "print(\"Path to dataset files:\", path)"
      ],
      "id": "e4880b12",
      "execution_count": 1,
      "outputs": [
        {
          "output_type": "stream",
          "name": "stdout",
          "text": [
            "Path to dataset files: /kaggle/input/brisc2025\n"
          ]
        }
      ]
    },
    {
      "cell_type": "markdown",
      "source": [
        "###Path setup"
      ],
      "metadata": {
        "id": "9wUHAX-_dB7k"
      },
      "id": "9wUHAX-_dB7k"
    },
    {
      "cell_type": "code",
      "source": [
        "classification_task_train = os.path.join(path,\"classification_task/train\")\n",
        "segmentation_task_train = os.path.join(path,\"segmentation_task/train\")\n",
        "print(classification_task_train)\n",
        "print(segmentation_task_train)"
      ],
      "metadata": {
        "id": "38n5v3X3dPi4"
      },
      "id": "38n5v3X3dPi4",
      "execution_count": null,
      "outputs": []
    },
    {
      "cell_type": "code",
      "source": [
        "import os\n",
        "from torch.utils.data import Dataset\n",
        "from PIL import Image\n",
        "\n",
        "class BrainSegmentationDataset(Dataset):\n",
        "    def __init__(self, images_dir, masks_dir, transform=None):\n",
        "        self.images_dir = images_dir\n",
        "        self.masks_dir = masks_dir\n",
        "        self.transform = transform\n",
        "        self.images = sorted(os.listdir(images_dir))\n",
        "        self.masks = sorted(os.listdir(masks_dir))\n",
        "\n",
        "    def __len__(self):\n",
        "        return len(self.images)\n",
        "\n",
        "    def __getitem__(self, idx):\n",
        "        img_path = os.path.join(self.images_dir, self.images[idx])\n",
        "        mask_path = os.path.join(self.masks_dir, self.masks[idx])\n",
        "\n",
        "        image = Image.open(img_path).convert(\"RGB\")\n",
        "        mask = Image.open(mask_path).convert(\"L\")  # grayscale mask\n",
        "\n",
        "        if self.transform:\n",
        "            # Apply the same transform to both\n",
        "            augmented = self.transform(image=np.array(image), mask=np.array(mask))\n",
        "            image, mask = augmented[\"image\"], augmented[\"mask\"]\n",
        "\n",
        "        return image, mask"
      ],
      "metadata": {
        "id": "MPfwQ0DIe3nn"
      },
      "id": "MPfwQ0DIe3nn",
      "execution_count": 7,
      "outputs": []
    },
    {
      "cell_type": "code",
      "source": [
        "img = BrainSegmentationDataset(classification_task, segmentation_task)"
      ],
      "metadata": {
        "id": "nVPu9pNhfu8Q"
      },
      "id": "nVPu9pNhfu8Q",
      "execution_count": null,
      "outputs": []
    }
  ],
  "metadata": {
    "kernelspec": {
      "display_name": "Python 3",
      "name": "python3"
    },
    "language_info": {
      "codemirror_mode": {
        "name": "ipython",
        "version": 3
      },
      "file_extension": ".py",
      "mimetype": "text/x-python",
      "name": "python",
      "nbconvert_exporter": "python",
      "pygments_lexer": "ipython3",
      "version": "3.11.6"
    },
    "colab": {
      "provenance": [],
      "gpuType": "T4"
    },
    "accelerator": "GPU"
  },
  "nbformat": 4,
  "nbformat_minor": 5
}